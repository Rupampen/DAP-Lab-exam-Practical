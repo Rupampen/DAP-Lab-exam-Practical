{
 "cells": [
  {
   "cell_type": "markdown",
   "id": "56cecda2",
   "metadata": {},
   "source": [
    "# Name: Rupam Das \n",
    "# ID: Et21bthcs008 (Sec A)\n",
    "# DAP Lab Exam    "
   ]
  },
  {
   "cell_type": "markdown",
   "id": "4f2893f6",
   "metadata": {},
   "source": [
    "# --------------------------------------------------------------------------------\n",
    "# Customer Acquisition Analysis\n",
    "Customer acquisition refers to the process of bringing in new customers or clients for a business.\n",
    "Customer Acquisition Cost (CAC) Analysis is a critical aspect of business strategy where Data\n",
    "Science plays a vital role.\n",
    "\n",
    "What is Customer Acquisition Cost?\n",
    "CAC refers to the cost a company incurs to acquire a new customer. Understanding and \n",
    "optimizing this cost is crucial for sustainable growth and profitability.\n",
    "\n",
    "# Customer Acquisition Cost Analysis Process\n",
    "The analysis of Customer Acquisition Cost (CAC) serves as a valuable tool for businesses, allowing them to evaluate the efficiency and effectiveness of their efforts in acquiring customers. This analysis is instrumental in making informed decisions regarding the allocation of resources and the development of marketing strategies, ultimately contributing to the company's growth and profitability.\n",
    "\n",
    "The following steps can be undertaken for the customer acquisition cost analysis task :\n",
    "\n",
    "Initiate the process by gathering pertinent data related to customer acquisition expen2. ses. Break down customer acquisition costs into segments to gain insights into the channels or strategies driving customer acquisi3. tion. Identify crucial metrics that will aid in the calculation o4. f CAC. Compute the CAC for each customer acquisition channel or st5. rategy. Conduct an in-depth analysis to discern patterns and optimize the CAC effectively. oexpenses."
   ]
  },
  {
   "cell_type": "code",
   "execution_count": 2,
   "id": "dd5a572a",
   "metadata": {},
   "outputs": [],
   "source": [
    "# Libraries Import and Dataset import \n",
    "import numpy as np\n",
    "import pandas as pd\n",
    "import plotly.express as px"
   ]
  },
  {
   "cell_type": "code",
   "execution_count": 3,
   "id": "5c1a1618",
   "metadata": {},
   "outputs": [],
   "source": [
    "df = pd.read_csv('customer_acquisition_cost_dataset.csv')"
   ]
  },
  {
   "cell_type": "code",
   "execution_count": 4,
   "id": "843aeb7f",
   "metadata": {},
   "outputs": [
    {
     "data": {
      "text/html": [
       "<div>\n",
       "<style scoped>\n",
       "    .dataframe tbody tr th:only-of-type {\n",
       "        vertical-align: middle;\n",
       "    }\n",
       "\n",
       "    .dataframe tbody tr th {\n",
       "        vertical-align: top;\n",
       "    }\n",
       "\n",
       "    .dataframe thead th {\n",
       "        text-align: right;\n",
       "    }\n",
       "</style>\n",
       "<table border=\"1\" class=\"dataframe\">\n",
       "  <thead>\n",
       "    <tr style=\"text-align: right;\">\n",
       "      <th></th>\n",
       "      <th>Customer_ID</th>\n",
       "      <th>Marketing_Channel</th>\n",
       "      <th>Marketing_Spend</th>\n",
       "      <th>New_Customers</th>\n",
       "    </tr>\n",
       "  </thead>\n",
       "  <tbody>\n",
       "    <tr>\n",
       "      <th>0</th>\n",
       "      <td>CUST0001</td>\n",
       "      <td>Email Marketing</td>\n",
       "      <td>3489.027844</td>\n",
       "      <td>16</td>\n",
       "    </tr>\n",
       "    <tr>\n",
       "      <th>1</th>\n",
       "      <td>CUST0002</td>\n",
       "      <td>Online Ads</td>\n",
       "      <td>1107.865808</td>\n",
       "      <td>33</td>\n",
       "    </tr>\n",
       "    <tr>\n",
       "      <th>2</th>\n",
       "      <td>CUST0003</td>\n",
       "      <td>Social Media</td>\n",
       "      <td>2576.081025</td>\n",
       "      <td>44</td>\n",
       "    </tr>\n",
       "    <tr>\n",
       "      <th>3</th>\n",
       "      <td>CUST0004</td>\n",
       "      <td>Online Ads</td>\n",
       "      <td>3257.567932</td>\n",
       "      <td>32</td>\n",
       "    </tr>\n",
       "    <tr>\n",
       "      <th>4</th>\n",
       "      <td>CUST0005</td>\n",
       "      <td>Email Marketing</td>\n",
       "      <td>1108.408185</td>\n",
       "      <td>13</td>\n",
       "    </tr>\n",
       "    <tr>\n",
       "      <th>...</th>\n",
       "      <td>...</td>\n",
       "      <td>...</td>\n",
       "      <td>...</td>\n",
       "      <td>...</td>\n",
       "    </tr>\n",
       "    <tr>\n",
       "      <th>495</th>\n",
       "      <td>CUST0496</td>\n",
       "      <td>Email Marketing</td>\n",
       "      <td>1130.865147</td>\n",
       "      <td>19</td>\n",
       "    </tr>\n",
       "    <tr>\n",
       "      <th>496</th>\n",
       "      <td>CUST0497</td>\n",
       "      <td>Social Media</td>\n",
       "      <td>2482.119835</td>\n",
       "      <td>18</td>\n",
       "    </tr>\n",
       "    <tr>\n",
       "      <th>497</th>\n",
       "      <td>CUST0498</td>\n",
       "      <td>Online Ads</td>\n",
       "      <td>2773.532344</td>\n",
       "      <td>12</td>\n",
       "    </tr>\n",
       "    <tr>\n",
       "      <th>498</th>\n",
       "      <td>CUST0499</td>\n",
       "      <td>Social Media</td>\n",
       "      <td>4802.220679</td>\n",
       "      <td>28</td>\n",
       "    </tr>\n",
       "    <tr>\n",
       "      <th>499</th>\n",
       "      <td>CUST0500</td>\n",
       "      <td>Online Ads</td>\n",
       "      <td>4421.800773</td>\n",
       "      <td>40</td>\n",
       "    </tr>\n",
       "  </tbody>\n",
       "</table>\n",
       "<p>500 rows × 4 columns</p>\n",
       "</div>"
      ],
      "text/plain": [
       "    Customer_ID Marketing_Channel  Marketing_Spend  New_Customers\n",
       "0      CUST0001   Email Marketing      3489.027844             16\n",
       "1      CUST0002        Online Ads      1107.865808             33\n",
       "2      CUST0003      Social Media      2576.081025             44\n",
       "3      CUST0004        Online Ads      3257.567932             32\n",
       "4      CUST0005   Email Marketing      1108.408185             13\n",
       "..          ...               ...              ...            ...\n",
       "495    CUST0496   Email Marketing      1130.865147             19\n",
       "496    CUST0497      Social Media      2482.119835             18\n",
       "497    CUST0498        Online Ads      2773.532344             12\n",
       "498    CUST0499      Social Media      4802.220679             28\n",
       "499    CUST0500        Online Ads      4421.800773             40\n",
       "\n",
       "[500 rows x 4 columns]"
      ]
     },
     "execution_count": 4,
     "metadata": {},
     "output_type": "execute_result"
    }
   ],
   "source": [
    "df"
   ]
  },
  {
   "cell_type": "markdown",
   "id": "dafca57f",
   "metadata": {},
   "source": [
    "# Q.1) Find the shape of the table."
   ]
  },
  {
   "cell_type": "code",
   "execution_count": 5,
   "id": "706accb9",
   "metadata": {},
   "outputs": [
    {
     "data": {
      "text/plain": [
       "(500, 4)"
      ]
     },
     "execution_count": 5,
     "metadata": {},
     "output_type": "execute_result"
    }
   ],
   "source": [
    "df.shape"
   ]
  },
  {
   "cell_type": "markdown",
   "id": "25d4fa51",
   "metadata": {},
   "source": [
    "# Q.2) Display the name of the columns."
   ]
  },
  {
   "cell_type": "code",
   "execution_count": 6,
   "id": "ef50bb98",
   "metadata": {},
   "outputs": [
    {
     "data": {
      "text/plain": [
       "Index(['Customer_ID', 'Marketing_Channel', 'Marketing_Spend', 'New_Customers'], dtype='object')"
      ]
     },
     "execution_count": 6,
     "metadata": {},
     "output_type": "execute_result"
    }
   ],
   "source": [
    "df.columns"
   ]
  },
  {
   "cell_type": "markdown",
   "id": "ab6185bf",
   "metadata": {},
   "source": [
    "# Q.3) Display the Info. of the file."
   ]
  },
  {
   "cell_type": "code",
   "execution_count": 7,
   "id": "80061fa4",
   "metadata": {},
   "outputs": [
    {
     "name": "stdout",
     "output_type": "stream",
     "text": [
      "<class 'pandas.core.frame.DataFrame'>\n",
      "RangeIndex: 500 entries, 0 to 499\n",
      "Data columns (total 4 columns):\n",
      " #   Column             Non-Null Count  Dtype  \n",
      "---  ------             --------------  -----  \n",
      " 0   Customer_ID        500 non-null    object \n",
      " 1   Marketing_Channel  500 non-null    object \n",
      " 2   Marketing_Spend    500 non-null    float64\n",
      " 3   New_Customers      500 non-null    int64  \n",
      "dtypes: float64(1), int64(1), object(2)\n",
      "memory usage: 15.8+ KB\n"
     ]
    }
   ],
   "source": [
    "df.info()"
   ]
  },
  {
   "cell_type": "markdown",
   "id": "9f136094",
   "metadata": {},
   "source": [
    "# Q.4)  Find all Null Values in the dataset. If there is any null value in any column, then fill it with the mean of that column."
   ]
  },
  {
   "cell_type": "code",
   "execution_count": 8,
   "id": "71de2124",
   "metadata": {},
   "outputs": [
    {
     "data": {
      "text/plain": [
       "Customer_ID          0\n",
       "Marketing_Channel    0\n",
       "Marketing_Spend      0\n",
       "New_Customers        0\n",
       "dtype: int64"
      ]
     },
     "execution_count": 8,
     "metadata": {},
     "output_type": "execute_result"
    }
   ],
   "source": [
    "df.isnull().sum()"
   ]
  },
  {
   "cell_type": "markdown",
   "id": "6cae6938",
   "metadata": {},
   "source": [
    "# Q.4)  Find all Duplicate Values in the dataset. If there is any duplicate value in any column, then fill it with the mean of that column."
   ]
  },
  {
   "cell_type": "code",
   "execution_count": 9,
   "id": "1d0cca36",
   "metadata": {},
   "outputs": [
    {
     "data": {
      "text/plain": [
       "0"
      ]
     },
     "execution_count": 9,
     "metadata": {},
     "output_type": "execute_result"
    }
   ],
   "source": [
    "df.duplicated().sum()"
   ]
  },
  {
   "cell_type": "markdown",
   "id": "6baabc9b",
   "metadata": {},
   "source": [
    "# Q.5) Create a new column cac and find the average customer costs,least expensive costs & the most expensive costs."
   ]
  },
  {
   "cell_type": "code",
   "execution_count": 10,
   "id": "5de8d0b8",
   "metadata": {},
   "outputs": [],
   "source": [
    "df['cac'] = df['Marketing_Spend'] / df['New_Customers']"
   ]
  },
  {
   "cell_type": "code",
   "execution_count": 11,
   "id": "2d9d09d5",
   "metadata": {},
   "outputs": [
    {
     "data": {
      "text/html": [
       "<div>\n",
       "<style scoped>\n",
       "    .dataframe tbody tr th:only-of-type {\n",
       "        vertical-align: middle;\n",
       "    }\n",
       "\n",
       "    .dataframe tbody tr th {\n",
       "        vertical-align: top;\n",
       "    }\n",
       "\n",
       "    .dataframe thead th {\n",
       "        text-align: right;\n",
       "    }\n",
       "</style>\n",
       "<table border=\"1\" class=\"dataframe\">\n",
       "  <thead>\n",
       "    <tr style=\"text-align: right;\">\n",
       "      <th></th>\n",
       "      <th>Marketing_Spend</th>\n",
       "      <th>New_Customers</th>\n",
       "      <th>cac</th>\n",
       "    </tr>\n",
       "  </thead>\n",
       "  <tbody>\n",
       "    <tr>\n",
       "      <th>count</th>\n",
       "      <td>500.000000</td>\n",
       "      <td>500.000000</td>\n",
       "      <td>500.000000</td>\n",
       "    </tr>\n",
       "    <tr>\n",
       "      <th>mean</th>\n",
       "      <td>3094.726549</td>\n",
       "      <td>30.070000</td>\n",
       "      <td>125.189284</td>\n",
       "    </tr>\n",
       "    <tr>\n",
       "      <th>std</th>\n",
       "      <td>1136.628605</td>\n",
       "      <td>11.754209</td>\n",
       "      <td>80.280164</td>\n",
       "    </tr>\n",
       "    <tr>\n",
       "      <th>min</th>\n",
       "      <td>1010.702890</td>\n",
       "      <td>10.000000</td>\n",
       "      <td>21.616453</td>\n",
       "    </tr>\n",
       "    <tr>\n",
       "      <th>25%</th>\n",
       "      <td>2131.835093</td>\n",
       "      <td>19.000000</td>\n",
       "      <td>67.933448</td>\n",
       "    </tr>\n",
       "    <tr>\n",
       "      <th>50%</th>\n",
       "      <td>3155.976674</td>\n",
       "      <td>31.000000</td>\n",
       "      <td>101.535848</td>\n",
       "    </tr>\n",
       "    <tr>\n",
       "      <th>75%</th>\n",
       "      <td>4027.494116</td>\n",
       "      <td>40.000000</td>\n",
       "      <td>165.633818</td>\n",
       "    </tr>\n",
       "    <tr>\n",
       "      <th>max</th>\n",
       "      <td>4999.631314</td>\n",
       "      <td>50.000000</td>\n",
       "      <td>435.487346</td>\n",
       "    </tr>\n",
       "  </tbody>\n",
       "</table>\n",
       "</div>"
      ],
      "text/plain": [
       "       Marketing_Spend  New_Customers         cac\n",
       "count       500.000000     500.000000  500.000000\n",
       "mean       3094.726549      30.070000  125.189284\n",
       "std        1136.628605      11.754209   80.280164\n",
       "min        1010.702890      10.000000   21.616453\n",
       "25%        2131.835093      19.000000   67.933448\n",
       "50%        3155.976674      31.000000  101.535848\n",
       "75%        4027.494116      40.000000  165.633818\n",
       "max        4999.631314      50.000000  435.487346"
      ]
     },
     "execution_count": 11,
     "metadata": {},
     "output_type": "execute_result"
    }
   ],
   "source": [
    "df.describe()"
   ]
  },
  {
   "cell_type": "code",
   "execution_count": 13,
   "id": "fa6fd742",
   "metadata": {},
   "outputs": [],
   "source": [
    "# Here we can see that the average customer costs 125 dollars\n",
    "\n",
    "# The least expensive costs 22 dollars\n",
    "\n",
    "# The most expensive costs 435 dollars"
   ]
  },
  {
   "cell_type": "code",
   "execution_count": 14,
   "id": "85bf7637",
   "metadata": {},
   "outputs": [
    {
     "data": {
      "text/html": [
       "<div>\n",
       "<style scoped>\n",
       "    .dataframe tbody tr th:only-of-type {\n",
       "        vertical-align: middle;\n",
       "    }\n",
       "\n",
       "    .dataframe tbody tr th {\n",
       "        vertical-align: top;\n",
       "    }\n",
       "\n",
       "    .dataframe thead th {\n",
       "        text-align: right;\n",
       "    }\n",
       "</style>\n",
       "<table border=\"1\" class=\"dataframe\">\n",
       "  <thead>\n",
       "    <tr style=\"text-align: right;\">\n",
       "      <th></th>\n",
       "      <th>Customer_ID</th>\n",
       "      <th>Marketing_Channel</th>\n",
       "      <th>Marketing_Spend</th>\n",
       "      <th>New_Customers</th>\n",
       "      <th>cac</th>\n",
       "    </tr>\n",
       "  </thead>\n",
       "  <tbody>\n",
       "    <tr>\n",
       "      <th>0</th>\n",
       "      <td>CUST0001</td>\n",
       "      <td>Email Marketing</td>\n",
       "      <td>3489.027844</td>\n",
       "      <td>16</td>\n",
       "      <td>218.064240</td>\n",
       "    </tr>\n",
       "    <tr>\n",
       "      <th>1</th>\n",
       "      <td>CUST0002</td>\n",
       "      <td>Online Ads</td>\n",
       "      <td>1107.865808</td>\n",
       "      <td>33</td>\n",
       "      <td>33.571691</td>\n",
       "    </tr>\n",
       "    <tr>\n",
       "      <th>2</th>\n",
       "      <td>CUST0003</td>\n",
       "      <td>Social Media</td>\n",
       "      <td>2576.081025</td>\n",
       "      <td>44</td>\n",
       "      <td>58.547296</td>\n",
       "    </tr>\n",
       "    <tr>\n",
       "      <th>3</th>\n",
       "      <td>CUST0004</td>\n",
       "      <td>Online Ads</td>\n",
       "      <td>3257.567932</td>\n",
       "      <td>32</td>\n",
       "      <td>101.798998</td>\n",
       "    </tr>\n",
       "    <tr>\n",
       "      <th>4</th>\n",
       "      <td>CUST0005</td>\n",
       "      <td>Email Marketing</td>\n",
       "      <td>1108.408185</td>\n",
       "      <td>13</td>\n",
       "      <td>85.262168</td>\n",
       "    </tr>\n",
       "    <tr>\n",
       "      <th>...</th>\n",
       "      <td>...</td>\n",
       "      <td>...</td>\n",
       "      <td>...</td>\n",
       "      <td>...</td>\n",
       "      <td>...</td>\n",
       "    </tr>\n",
       "    <tr>\n",
       "      <th>495</th>\n",
       "      <td>CUST0496</td>\n",
       "      <td>Email Marketing</td>\n",
       "      <td>1130.865147</td>\n",
       "      <td>19</td>\n",
       "      <td>59.519218</td>\n",
       "    </tr>\n",
       "    <tr>\n",
       "      <th>496</th>\n",
       "      <td>CUST0497</td>\n",
       "      <td>Social Media</td>\n",
       "      <td>2482.119835</td>\n",
       "      <td>18</td>\n",
       "      <td>137.895546</td>\n",
       "    </tr>\n",
       "    <tr>\n",
       "      <th>497</th>\n",
       "      <td>CUST0498</td>\n",
       "      <td>Online Ads</td>\n",
       "      <td>2773.532344</td>\n",
       "      <td>12</td>\n",
       "      <td>231.127695</td>\n",
       "    </tr>\n",
       "    <tr>\n",
       "      <th>498</th>\n",
       "      <td>CUST0499</td>\n",
       "      <td>Social Media</td>\n",
       "      <td>4802.220679</td>\n",
       "      <td>28</td>\n",
       "      <td>171.507881</td>\n",
       "    </tr>\n",
       "    <tr>\n",
       "      <th>499</th>\n",
       "      <td>CUST0500</td>\n",
       "      <td>Online Ads</td>\n",
       "      <td>4421.800773</td>\n",
       "      <td>40</td>\n",
       "      <td>110.545019</td>\n",
       "    </tr>\n",
       "  </tbody>\n",
       "</table>\n",
       "<p>500 rows × 5 columns</p>\n",
       "</div>"
      ],
      "text/plain": [
       "    Customer_ID Marketing_Channel  Marketing_Spend  New_Customers         cac\n",
       "0      CUST0001   Email Marketing      3489.027844             16  218.064240\n",
       "1      CUST0002        Online Ads      1107.865808             33   33.571691\n",
       "2      CUST0003      Social Media      2576.081025             44   58.547296\n",
       "3      CUST0004        Online Ads      3257.567932             32  101.798998\n",
       "4      CUST0005   Email Marketing      1108.408185             13   85.262168\n",
       "..          ...               ...              ...            ...         ...\n",
       "495    CUST0496   Email Marketing      1130.865147             19   59.519218\n",
       "496    CUST0497      Social Media      2482.119835             18  137.895546\n",
       "497    CUST0498        Online Ads      2773.532344             12  231.127695\n",
       "498    CUST0499      Social Media      4802.220679             28  171.507881\n",
       "499    CUST0500        Online Ads      4421.800773             40  110.545019\n",
       "\n",
       "[500 rows x 5 columns]"
      ]
     },
     "execution_count": 14,
     "metadata": {},
     "output_type": "execute_result"
    }
   ],
   "source": [
    "df"
   ]
  },
  {
   "cell_type": "markdown",
   "id": "58147daf",
   "metadata": {},
   "source": [
    "# Q.6) What are the total Customer Acquisition Costs (CAC) for Email Marketing, Online Ads, Referral, and Social Media, as derived from the DataFrame grouped by marketing channels?"
   ]
  },
  {
   "cell_type": "code",
   "execution_count": 15,
   "id": "8d53c15d",
   "metadata": {},
   "outputs": [
    {
     "data": {
      "text/html": [
       "<div>\n",
       "<style scoped>\n",
       "    .dataframe tbody tr th:only-of-type {\n",
       "        vertical-align: middle;\n",
       "    }\n",
       "\n",
       "    .dataframe tbody tr th {\n",
       "        vertical-align: top;\n",
       "    }\n",
       "\n",
       "    .dataframe thead th {\n",
       "        text-align: right;\n",
       "    }\n",
       "</style>\n",
       "<table border=\"1\" class=\"dataframe\">\n",
       "  <thead>\n",
       "    <tr style=\"text-align: right;\">\n",
       "      <th></th>\n",
       "      <th>cac</th>\n",
       "    </tr>\n",
       "    <tr>\n",
       "      <th>Marketing_Channel</th>\n",
       "      <th></th>\n",
       "    </tr>\n",
       "  </thead>\n",
       "  <tbody>\n",
       "    <tr>\n",
       "      <th>Email Marketing</th>\n",
       "      <td>16481.306045</td>\n",
       "    </tr>\n",
       "    <tr>\n",
       "      <th>Online Ads</th>\n",
       "      <td>15877.671960</td>\n",
       "    </tr>\n",
       "    <tr>\n",
       "      <th>Referral</th>\n",
       "      <td>15346.198311</td>\n",
       "    </tr>\n",
       "    <tr>\n",
       "      <th>Social Media</th>\n",
       "      <td>14889.465778</td>\n",
       "    </tr>\n",
       "  </tbody>\n",
       "</table>\n",
       "</div>"
      ],
      "text/plain": [
       "                            cac\n",
       "Marketing_Channel              \n",
       "Email Marketing    16481.306045\n",
       "Online Ads         15877.671960\n",
       "Referral           15346.198311\n",
       "Social Media       14889.465778"
      ]
     },
     "execution_count": 15,
     "metadata": {},
     "output_type": "execute_result"
    }
   ],
   "source": [
    "df.groupby('Marketing_Channel').agg({'cac':'sum'})"
   ]
  },
  {
   "cell_type": "code",
   "execution_count": 18,
   "id": "b43b9142",
   "metadata": {},
   "outputs": [],
   "source": [
    "# The total Customer Acquisition Costs (CAC) for each marketing channel, based on the above table, are as follows:\n",
    "\n",
    "# For Email Marketing, the CAC is $16,481.31.\n",
    "# For Online Ads, the CAC is $15,877.67.\n",
    "# For Referral, the CAC is $15,346.20.\n",
    "# For Social Media, the CAC is $14,889.47.\n"
   ]
  }
 ],
 "metadata": {
  "kernelspec": {
   "display_name": "Python 3 (ipykernel)",
   "language": "python",
   "name": "python3"
  },
  "language_info": {
   "codemirror_mode": {
    "name": "ipython",
    "version": 3
   },
   "file_extension": ".py",
   "mimetype": "text/x-python",
   "name": "python",
   "nbconvert_exporter": "python",
   "pygments_lexer": "ipython3",
   "version": "3.9.12"
  }
 },
 "nbformat": 4,
 "nbformat_minor": 5
}
